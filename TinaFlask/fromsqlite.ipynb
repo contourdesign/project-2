{
 "cells": [
  {
   "cell_type": "code",
   "execution_count": 1,
   "id": "hollywood-image",
   "metadata": {},
   "outputs": [
    {
     "data": {
      "text/plain": [
       "['earthquake']"
      ]
     },
     "execution_count": 1,
     "metadata": {},
     "output_type": "execute_result"
    }
   ],
   "source": [
    "import sqlalchemy\n",
    "from sqlalchemy.ext.automap import automap_base\n",
    "from sqlalchemy.orm import Session\n",
    "from sqlalchemy import create_engine, inspect,func\n",
    "from flask import Flask, jsonify\n",
    "import numpy as np\n",
    "# Database setup\n",
    "engine=create_engine(\"sqlite:///output.sqlite\")\n",
    "# reflect an existing database into a new model\n",
    "Base=automap_base()\n",
    "#reflect the tables\n",
    "Base.prepare(engine,reflect=True)\n",
    "inspector=inspect(engine)\n",
    "inspector.get_table_names()"
   ]
  },
  {
   "cell_type": "code",
   "execution_count": 37,
   "id": "third-organizer",
   "metadata": {},
   "outputs": [],
   "source": [
    "columns=inspector.get_columns(\"earthquake\")\n"
   ]
  },
  {
   "cell_type": "code",
   "execution_count": 38,
   "id": "moving-master",
   "metadata": {},
   "outputs": [
    {
     "name": "stdout",
     "output_type": "stream",
     "text": [
      "Date TEXT\n",
      "Time TEXT\n",
      "Latitude REAL\n",
      "Longitude REAL\n",
      "Type TEXT\n",
      "Depth REAL\n",
      "Depth Error TEXT\n",
      "Depth Seismic Stations TEXT\n",
      "Magnitude REAL\n",
      "Magnitude Type TEXT\n",
      "Magnitude Error TEXT\n",
      "Magnitude Seismic Stations TEXT\n",
      "Azimuthal Gap TEXT\n",
      "Horizontal Distance TEXT\n",
      "Horizontal Error TEXT\n",
      "Root Mean Square TEXT\n",
      "ID TEXT\n",
      "Source TEXT\n",
      "Location Source TEXT\n",
      "Magnitude Source TEXT\n",
      "Status TEXT\n"
     ]
    }
   ],
   "source": [
    "for c in columns:\n",
    "    print(c[\"name\"],c[\"type\"])"
   ]
  },
  {
   "cell_type": "code",
   "execution_count": 39,
   "id": "square-essence",
   "metadata": {},
   "outputs": [
    {
     "data": {
      "text/plain": [
       "[('1/2/1965', '13:44:18', 19.246, 145.616, 'Earthquake', 131.6, '', '', 6.0, 'MW', '', '', '', '', '', '', 'ISCGEM860706', 'ISCGEM', 'ISCGEM', 'ISCGEM', 'Automatic'),\n",
       " ('1/4/1965', '11:29:49', 1.863, 127.352, 'Earthquake', 80.0, '', '', 5.8, 'MW', '', '', '', '', '', '', 'ISCGEM860737', 'ISCGEM', 'ISCGEM', 'ISCGEM', 'Automatic'),\n",
       " ('1/5/1965', '18:05:58', -20.579, -173.972, 'Earthquake', 20.0, '', '', 6.2, 'MW', '', '', '', '', '', '', 'ISCGEM860762', 'ISCGEM', 'ISCGEM', 'ISCGEM', 'Automatic'),\n",
       " ('1/8/1965', '18:49:43', -59.076, -23.557, 'Earthquake', 15.0, '', '', 5.8, 'MW', '', '', '', '', '', '', 'ISCGEM860856', 'ISCGEM', 'ISCGEM', 'ISCGEM', 'Automatic'),\n",
       " ('1/9/1965', '13:32:50', 11.938, 126.427, 'Earthquake', 15.0, '', '', 5.8, 'MW', '', '', '', '', '', '', 'ISCGEM860890', 'ISCGEM', 'ISCGEM', 'ISCGEM', 'Automatic'),\n",
       " ('1/10/1965', '13:36:32', -13.405, 166.629, 'Earthquake', 35.0, '', '', 6.7, 'MW', '', '', '', '', '', '', 'ISCGEM860922', 'ISCGEM', 'ISCGEM', 'ISCGEM', 'Automatic'),\n",
       " ('1/12/1965', '13:32:25', 27.357, 87.867, 'Earthquake', 20.0, '', '', 5.9, 'MW', '', '', '', '', '', '', 'ISCGEM861007', 'ISCGEM', 'ISCGEM', 'ISCGEM', 'Automatic'),\n",
       " ('1/15/1965', '23:17:42', -13.309, 166.212, 'Earthquake', 35.0, '', '', 6.0, 'MW', '', '', '', '', '', '', 'ISCGEM861111', 'ISCGEM', 'ISCGEM', 'ISCGEM', 'Automatic'),\n",
       " ('1/16/1965', '11:32:37', -56.452, -27.043, 'Earthquake', 95.0, '', '', 6.0, 'MW', '', '', '', '', '', '', 'ISCGEMSUP861125', 'ISCGEMSUP', 'ISCGEM', 'ISCGEM', 'Automatic'),\n",
       " ('1/17/1965', '10:43:17', -24.563, 178.487, 'Earthquake', 565.0, '', '', 5.8, 'MW', '', '', '', '', '', '', 'ISCGEM861148', 'ISCGEM', 'ISCGEM', 'ISCGEM', 'Automatic')]"
      ]
     },
     "execution_count": 39,
     "metadata": {},
     "output_type": "execute_result"
    }
   ],
   "source": [
    "engine.execute(\"select*from earthquake limit 10\").fetchall()"
   ]
  },
  {
   "cell_type": "code",
   "execution_count": 2,
   "id": "cooked-mauritius",
   "metadata": {},
   "outputs": [
    {
     "data": {
      "text/plain": [
       "[]"
      ]
     },
     "execution_count": 2,
     "metadata": {},
     "output_type": "execute_result"
    }
   ],
   "source": [
    "Base.classes.keys()"
   ]
  },
  {
   "cell_type": "code",
   "execution_count": 3,
   "id": "legal-architect",
   "metadata": {},
   "outputs": [
    {
     "ename": "AttributeError",
     "evalue": "earthquake",
     "output_type": "error",
     "traceback": [
      "\u001b[0;31m--------------------------------------\u001b[0m",
      "\u001b[0;31mKeyError\u001b[0mTraceback (most recent call last)",
      "\u001b[0;32m/opt/anaconda3/envs/PythonData/lib/python3.6/site-packages/sqlalchemy/util/_collections.py\u001b[0m in \u001b[0;36m__getattr__\u001b[0;34m(self, key)\u001b[0m\n\u001b[1;32m    185\u001b[0m         \u001b[0;32mtry\u001b[0m\u001b[0;34m:\u001b[0m\u001b[0;34m\u001b[0m\u001b[0;34m\u001b[0m\u001b[0m\n\u001b[0;32m--> 186\u001b[0;31m             \u001b[0;32mreturn\u001b[0m \u001b[0mself\u001b[0m\u001b[0;34m.\u001b[0m\u001b[0m_data\u001b[0m\u001b[0;34m[\u001b[0m\u001b[0mkey\u001b[0m\u001b[0;34m]\u001b[0m\u001b[0;34m\u001b[0m\u001b[0;34m\u001b[0m\u001b[0m\n\u001b[0m\u001b[1;32m    187\u001b[0m         \u001b[0;32mexcept\u001b[0m \u001b[0mKeyError\u001b[0m\u001b[0;34m:\u001b[0m\u001b[0;34m\u001b[0m\u001b[0;34m\u001b[0m\u001b[0m\n",
      "\u001b[0;31mKeyError\u001b[0m: 'earthquake'",
      "\nDuring handling of the above exception, another exception occurred:\n",
      "\u001b[0;31mAttributeError\u001b[0mTraceback (most recent call last)",
      "\u001b[0;32m<ipython-input-3-678ad0c91419>\u001b[0m in \u001b[0;36m<module>\u001b[0;34m\u001b[0m\n\u001b[0;32m----> 1\u001b[0;31m \u001b[0mEarthquake\u001b[0m\u001b[0;34m=\u001b[0m\u001b[0mBase\u001b[0m\u001b[0;34m.\u001b[0m\u001b[0mclasses\u001b[0m\u001b[0;34m.\u001b[0m\u001b[0mearthquake\u001b[0m\u001b[0;34m\u001b[0m\u001b[0;34m\u001b[0m\u001b[0m\n\u001b[0m\u001b[1;32m      2\u001b[0m \u001b[0msession\u001b[0m\u001b[0;34m=\u001b[0m\u001b[0mSession\u001b[0m\u001b[0;34m(\u001b[0m\u001b[0mengine\u001b[0m\u001b[0;34m)\u001b[0m\u001b[0;34m\u001b[0m\u001b[0;34m\u001b[0m\u001b[0m\n",
      "\u001b[0;32m/opt/anaconda3/envs/PythonData/lib/python3.6/site-packages/sqlalchemy/util/_collections.py\u001b[0m in \u001b[0;36m__getattr__\u001b[0;34m(self, key)\u001b[0m\n\u001b[1;32m    186\u001b[0m             \u001b[0;32mreturn\u001b[0m \u001b[0mself\u001b[0m\u001b[0;34m.\u001b[0m\u001b[0m_data\u001b[0m\u001b[0;34m[\u001b[0m\u001b[0mkey\u001b[0m\u001b[0;34m]\u001b[0m\u001b[0;34m\u001b[0m\u001b[0;34m\u001b[0m\u001b[0m\n\u001b[1;32m    187\u001b[0m         \u001b[0;32mexcept\u001b[0m \u001b[0mKeyError\u001b[0m\u001b[0;34m:\u001b[0m\u001b[0;34m\u001b[0m\u001b[0;34m\u001b[0m\u001b[0m\n\u001b[0;32m--> 188\u001b[0;31m             \u001b[0;32mraise\u001b[0m \u001b[0mAttributeError\u001b[0m\u001b[0;34m(\u001b[0m\u001b[0mkey\u001b[0m\u001b[0;34m)\u001b[0m\u001b[0;34m\u001b[0m\u001b[0;34m\u001b[0m\u001b[0m\n\u001b[0m\u001b[1;32m    189\u001b[0m \u001b[0;34m\u001b[0m\u001b[0m\n\u001b[1;32m    190\u001b[0m     \u001b[0;32mdef\u001b[0m \u001b[0m__contains__\u001b[0m\u001b[0;34m(\u001b[0m\u001b[0mself\u001b[0m\u001b[0;34m,\u001b[0m \u001b[0mkey\u001b[0m\u001b[0;34m)\u001b[0m\u001b[0;34m:\u001b[0m\u001b[0;34m\u001b[0m\u001b[0;34m\u001b[0m\u001b[0m\n",
      "\u001b[0;31mAttributeError\u001b[0m: earthquake"
     ]
    }
   ],
   "source": [
    "Earthquake=Base.classes.earthquake\n",
    "session=Session(engine)"
   ]
  },
  {
   "cell_type": "code",
   "execution_count": 4,
   "id": "stylish-semiconductor",
   "metadata": {},
   "outputs": [
    {
     "ename": "NameError",
     "evalue": "name 'Earthquake' is not defined",
     "output_type": "error",
     "traceback": [
      "\u001b[0;31m--------------------------------------\u001b[0m",
      "\u001b[0;31mNameError\u001b[0mTraceback (most recent call last)",
      "\u001b[0;32m<ipython-input-4-0583b067b3cf>\u001b[0m in \u001b[0;36m<module>\u001b[0;34m\u001b[0m\n\u001b[1;32m      1\u001b[0m \u001b[0msession\u001b[0m\u001b[0;34m=\u001b[0m\u001b[0mSession\u001b[0m\u001b[0;34m(\u001b[0m\u001b[0mengine\u001b[0m\u001b[0;34m)\u001b[0m\u001b[0;34m\u001b[0m\u001b[0;34m\u001b[0m\u001b[0m\n\u001b[0;32m----> 2\u001b[0;31m \u001b[0mresults\u001b[0m\u001b[0;34m=\u001b[0m\u001b[0msession\u001b[0m\u001b[0;34m.\u001b[0m\u001b[0mquery\u001b[0m\u001b[0;34m(\u001b[0m\u001b[0mEarthquake\u001b[0m\u001b[0;34m.\u001b[0m\u001b[0mDate\u001b[0m\u001b[0;34m)\u001b[0m\u001b[0;34m.\u001b[0m\u001b[0mall\u001b[0m\u001b[0;34m(\u001b[0m\u001b[0;34m)\u001b[0m\u001b[0;34m\u001b[0m\u001b[0;34m\u001b[0m\u001b[0m\n\u001b[0m",
      "\u001b[0;31mNameError\u001b[0m: name 'Earthquake' is not defined"
     ]
    }
   ],
   "source": [
    "session=Session(engine)\n",
    "results=session.query(Earthquake.Date).all()"
   ]
  },
  {
   "cell_type": "code",
   "execution_count": null,
   "id": "fatal-magic",
   "metadata": {},
   "outputs": [],
   "source": []
  },
  {
   "cell_type": "code",
   "execution_count": null,
   "id": "advised-insurance",
   "metadata": {},
   "outputs": [],
   "source": []
  }
 ],
 "metadata": {
  "kernelspec": {
   "display_name": "Python 3",
   "language": "python",
   "name": "python3"
  },
  "language_info": {
   "codemirror_mode": {
    "name": "ipython",
    "version": 3
   },
   "file_extension": ".py",
   "mimetype": "text/x-python",
   "name": "python",
   "nbconvert_exporter": "python",
   "pygments_lexer": "ipython3",
   "version": "3.6.10"
  }
 },
 "nbformat": 4,
 "nbformat_minor": 5
}
